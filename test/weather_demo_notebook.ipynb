{
 "cells": [
  {
   "cell_type": "code",
   "execution_count": 1,
   "metadata": {},
   "outputs": [],
   "source": [
    "import sys\n",
    "import os\n",
    "\n",
    "# Get the current working directory (where the notebook is running from)\n",
    "current_dir = os.getcwd()\n",
    "# Get the path to the 'nave_visualization' folder (the root folder)\n",
    "project_root = os.path.abspath(os.path.join(current_dir, '..'))\n",
    "project_root = os.path.join(project_root , \"nave_visualization_core\")\n",
    "\n",
    "\n",
    "# Add the path to 'nave_visualization' to sys.path\n",
    "sys.path.append(project_root)\n",
    "\n",
    "\n",
    "import vis_functions as nave"
   ]
  },
  {
   "cell_type": "code",
   "execution_count": 6,
   "metadata": {},
   "outputs": [],
   "source": [
    "input_path = os.path.join(current_dir, \"granules\", \"18f4ac55-2d33-4be4-9c37-702ef03e2ccb\") "
   ]
  },
  {
   "cell_type": "markdown",
   "metadata": {},
   "source": [
    "## Function: create_granule_dict\n",
    "This function will create a granule dictionary using the provided input path"
   ]
  },
  {
   "cell_type": "code",
   "execution_count": 7,
   "metadata": {},
   "outputs": [
    {
     "data": {
      "text/plain": [
       "{'btm1_block': <xarray.Dataset> Size: 1MB\n",
       " Dimensions:          (time: 95, lat: 9, lon: 12, depth: 6)\n",
       " Coordinates:\n",
       "   * time             (time) datetime64[ns] 760B 2024-05-07 ... 2024-08-09\n",
       "   * lat              (lat) float64 72B 41.17 41.17 41.17 ... 41.16 41.16 41.16\n",
       "   * lon              (lon) float64 96B -96.48 -96.48 -96.48 ... -96.47 -96.47\n",
       "   * depth            (depth) int64 48B 5 15 30 60 100 200\n",
       " Data variables: (12/15)\n",
       "     wshort_risk      (time, lat, lon) float64 82kB ...\n",
       "     trnsp            (time, lat, lon) float64 82kB ...\n",
       "     rtzn_dp          (time, lat, lon) float32 41kB ...\n",
       "     wexcess_risk     (time, lat, lon) float64 82kB ...\n",
       "     sm_05_cm_est     (time, lat, lon) float64 82kB ...\n",
       "     sm_05_cm_sgm     (time, lat, lon) float64 82kB ...\n",
       "     ...               ...\n",
       "     sm_30_cm_sgm     (time, lat, lon) float64 82kB ...\n",
       "     sm_60_cm_est     (time, lat, lon) float64 82kB ...\n",
       "     sm_60_cm_sgm     (time, lat, lon) float64 82kB ...\n",
       "     assim_rz_sm_est  (time, lat, lon) float64 82kB ...\n",
       "     assim_rz_sm_sgm  (time, lat, lon) float64 82kB ...\n",
       "     wlp              (time, lat, lon) float64 82kB ...\n",
       " Attributes: (12/20)\n",
       "     field_GUID:                      71b0fde7-51f8-4df1-9b95-930dfe1af6de\n",
       "     aoi:                             POLYGON ((-96.48263919532461 41.16555682...\n",
       "     crop:                            corn\n",
       "     uid:                             71b0fde7-51f8-4df1-9b95-930dfe1af6de\n",
       "     Curent_rzsm_mm:                  Optimal\n",
       "     Current_rzsm_risk_category:      1\n",
       "     ...                              ...\n",
       "     Forecast_wexcess_risk_perc:      0.7667966668348285\n",
       "     Forecast_wexcess_risk_category:  0\n",
       "     Forecast_transit_date:           2024-08-01\n",
       "     Crop_type:                       corn\n",
       "     field_uid:                       71b0fde7-51f8-4df1-9b95-930dfe1af6de\n",
       "     NPV:                             NAVE-BTM_V2.0,\n",
       " 'wth1_block': <xarray.Dataset> Size: 8kB\n",
       " Dimensions:       (longitude: 1, latitude: 1, time: 96)\n",
       " Coordinates:\n",
       "   * longitude     (longitude) float64 8B -96.48\n",
       "   * latitude      (latitude) float64 8B 41.17\n",
       "   * time          (time) datetime64[ns] 768B 2024-05-06 ... 2024-08-09\n",
       " Data variables:\n",
       "     ETo_mm_d      (time, longitude, latitude) float64 768B ...\n",
       "     Tdk_max       (time, longitude, latitude) float64 768B ...\n",
       "     Tdk_min       (time, longitude, latitude) float64 768B ...\n",
       "     Insol_MJ_d    (time, longitude, latitude) float32 384B ...\n",
       "     Precip_m_d    (time, longitude, latitude) float64 768B ...\n",
       "     RHd_max       (time, longitude, latitude) float64 768B ...\n",
       "     RHd_min       (time, longitude, latitude) float64 768B ...\n",
       "     Wd_max        (time, longitude, latitude) float64 768B ...\n",
       "     Wd_min        (time, longitude, latitude) float64 768B ...\n",
       "     irrigtn_mm_d  (time, longitude, latitude) float64 768B ...\n",
       " Attributes: (12/16)\n",
       "     Forecast_transit_date:          2024-08-01\n",
       "     uid:                            71b0fde7-51f8-4df1-9b95-930dfe1af6de\n",
       "     aoi:                            POLYGON ((-96.48263919532461 41.165556829...\n",
       "     crop:                           corn\n",
       "     Forecast_precip_mm_week:        20.560000000000002\n",
       "     Forecast_precip_risk_category:  2\n",
       "     ...                             ...\n",
       "     Cumm_gdd_c:                     1119.575000000002\n",
       "     End_of_Irrigation:              False\n",
       "     Latitude:                       41.165196\n",
       "     Longitude:                      -96.477927\n",
       "     field_uid:                      71b0fde7-51f8-4df1-9b95-930dfe1af6de\n",
       "     NPV:                            Meteomatics_via_EOSDA,\n",
       " 'twr1_block': <xarray.Dataset> Size: 291kB\n",
       " Dimensions:         (time: 96, lat: 9, lon: 12)\n",
       " Coordinates:\n",
       "   * time            (time) datetime64[ns] 768B 2024-05-06 ... 2024-08-09\n",
       "   * lat             (lat) float64 72B 41.17 41.17 41.17 ... 41.16 41.16 41.16\n",
       "   * lon             (lon) float64 96B -96.48 -96.48 -96.48 ... -96.47 -96.47\n",
       " Data variables:\n",
       "     KC              (time, lat, lon) float32 41kB ...\n",
       "     LAI             (time, lat, lon) float32 41kB ...\n",
       "     AWL             (time, lat, lon) float32 41kB ...\n",
       "     ETA_est_mm_day  (time, lat, lon) float32 41kB ...\n",
       "     ETA_sgm_mm_day  (time, lat, lon) float32 41kB ...\n",
       "     irrigtn_mm_d    (time, lat, lon) float32 41kB ...\n",
       "     Fr_Cover        (time, lat, lon) float32 41kB ...\n",
       " Attributes:\n",
       "     Forecast_transit_date:      2024-08-01\n",
       "     uid:                        71b0fde7-51f8-4df1-9b95-930dfe1af6de\n",
       "     aoi:                        POLYGON ((-96.48263919532461 41.1655568294038...\n",
       "     crop:                       corn\n",
       "     Curent_et_mm_day:           5.9350147\n",
       "     Current_et_risk_category:   1\n",
       "     Forecast_et_mm_day:         6.4419727\n",
       "     Forecast_et_risk_category:  2\n",
       "     Cumm_eta_mm:                300.46234\n",
       "     Crop_type:                  corn\n",
       "     field_uid:                  71b0fde7-51f8-4df1-9b95-930dfe1af6de\n",
       "     NPV:                        NAVE-TOP_V1.3,\n",
       " 'thr1_block': <xarray.Dataset> Size: 10MB\n",
       " Dimensions:  (time: 96, lat: 88, lon: 145)\n",
       " Coordinates:\n",
       "   * time     (time) datetime64[ns] 768B 2024-05-06 2024-05-07 ... 2024-08-09\n",
       "   * lat      (lat) float64 704B 41.17 41.17 41.17 41.17 ... 41.16 41.16 41.16\n",
       "   * lon      (lon) float64 1kB -96.48 -96.48 -96.48 ... -96.47 -96.47 -96.47\n",
       " Data variables:\n",
       "     LAI      (time, lat, lon) float64 10MB ...\n",
       " Attributes:\n",
       "     units:                  m2/m2\n",
       "     Forecast_transit_date:  2024-08-01\n",
       "     uid:                    71b0fde7-51f8-4df1-9b95-930dfe1af6de\n",
       "     aoi:                    POLYGON ((-96.48263919532461 41.165556829403855, ...\n",
       "     crop:                   corn\n",
       "     Crop_type:              corn\n",
       "     field_uid:              71b0fde7-51f8-4df1-9b95-930dfe1af6de\n",
       "     NPV:                    NAVE-TOP_V1.3,\n",
       " 'soi1_block': <xarray.Dataset> Size: 31kB\n",
       " Dimensions:  (depth: 6, lat: 9, lon: 12)\n",
       " Coordinates:\n",
       "   * lon      (lon) float64 96B -96.48 -96.48 -96.48 ... -96.47 -96.47 -96.47\n",
       "   * lat      (lat) float64 72B 41.17 41.17 41.17 41.17 ... 41.16 41.16 41.16\n",
       "   * depth    (depth) int64 48B 5 15 30 60 100 200\n",
       " Data variables:\n",
       "     clay     (depth, lat, lon) float64 5kB ...\n",
       "     silt     (depth, lat, lon) float64 5kB ...\n",
       "     sand     (depth, lat, lon) float64 5kB ...\n",
       "     om       (depth, lat, lon) float64 5kB ...\n",
       "     wp       (depth, lat, lon) float64 5kB ...\n",
       "     fhc      (depth, lat, lon) float64 5kB ...\n",
       " Attributes:\n",
       "     field_GUID:  71b0fde7-51f8-4df1-9b95-930dfe1af6de\n",
       "     aoi:         POLYGON ((-96.48263919532461 41.165556829403855, -96.4822050...\n",
       "     crop:        corn\n",
       "     field_uid:   71b0fde7-51f8-4df1-9b95-930dfe1af6de\n",
       "     NPV:         NAVE-BTM_V2.0,\n",
       " 'btm1_path': 'c:\\\\Users\\\\nicsw\\\\Documents\\\\Nave_Projects\\\\nave_visualization\\\\test\\\\granules\\\\18f4ac55-2d33-4be4-9c37-702ef03e2ccb\\\\FBTM_71b0fde7-51f8-4df1-9b95-930dfe1af6de_2024-08-01_68733.296335_WRes.nc',\n",
       " 'wth1_path': 'c:\\\\Users\\\\nicsw\\\\Documents\\\\Nave_Projects\\\\nave_visualization\\\\test\\\\granules\\\\18f4ac55-2d33-4be4-9c37-702ef03e2ccb\\\\FW1D_71b0fde7-51f8-4df1-9b95-930dfe1af6de_2024-08-01_68733.311729.nc',\n",
       " 'twr1_path': 'c:\\\\Users\\\\nicsw\\\\Documents\\\\Nave_Projects\\\\nave_visualization\\\\test\\\\granules\\\\18f4ac55-2d33-4be4-9c37-702ef03e2ccb\\\\FTOP_71b0fde7-51f8-4df1-9b95-930dfe1af6de_2024-08-01_68733.296335_WRes.nc',\n",
       " 'thr1_path': 'c:\\\\Users\\\\nicsw\\\\Documents\\\\Nave_Projects\\\\nave_visualization\\\\test\\\\granules\\\\18f4ac55-2d33-4be4-9c37-702ef03e2ccb\\\\FTOP_71b0fde7-51f8-4df1-9b95-930dfe1af6de_2024-08-01_68733.300912_HRes.nc',\n",
       " 'soi1_path': 'c:\\\\Users\\\\nicsw\\\\Documents\\\\Nave_Projects\\\\nave_visualization\\\\test\\\\granules\\\\18f4ac55-2d33-4be4-9c37-702ef03e2ccb\\\\SGR250_71b0fde7-51f8-4df1-9b95-930dfe1af6de_2024-08-01_68733.296335_WRes.nc'}"
      ]
     },
     "execution_count": 7,
     "metadata": {},
     "output_type": "execute_result"
    }
   ],
   "source": [
    "granule = nave.create_granule_dict(input_path)\n",
    "granule"
   ]
  },
  {
   "cell_type": "code",
   "execution_count": 8,
   "metadata": {},
   "outputs": [
    {
     "name": "stdout",
     "output_type": "stream",
     "text": [
      "c:\\Users\\nicsw\\Documents\\Nave_Projects\\nave_visualization\\test\\demo_outputs\n"
     ]
    }
   ],
   "source": [
    "output_path = os.path.join(current_dir, \"demo_outputs\")\n",
    "print(output_path)"
   ]
  },
  {
   "cell_type": "markdown",
   "metadata": {},
   "source": [
    "## Function: build_precip_irri_map\n",
    "This fuction Creates a bar chart visualization of precipitation and irrigation data, \n",
    "with a split marker for forecast and observation data."
   ]
  },
  {
   "cell_type": "code",
   "execution_count": null,
   "metadata": {},
   "outputs": [
    {
     "data": {
      "image/png": "[encoded data removed]",
      "text/plain": [
       "<Figure size 1200x100 with 1 Axes>"
      ]
     },
     "metadata": {},
     "output_type": "display_data"
    }
   ],
   "source": [
    "nave.build_precip_irri_map(granule['wth1_block'], granule['twr1_block'], f\"{output_path}\\\\precip_irri_map.pdf\")"
   ]
  }
 ],
 "metadata": {
  "kernelspec": {
   "display_name": "Python 3 (ipykernel)",
   "language": "python",
   "name": "python3"
  },
  "language_info": {
   "codemirror_mode": {
    "name": "ipython",
    "version": 3
   },
   "file_extension": ".py",
   "mimetype": "text/x-python",
   "name": "python",
   "nbconvert_exporter": "python",
   "pygments_lexer": "ipython3",
   "version": "3.9.19"
  }
 },
 "nbformat": 4,
 "nbformat_minor": 4
}
